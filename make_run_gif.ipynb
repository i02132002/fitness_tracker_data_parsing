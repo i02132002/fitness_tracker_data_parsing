{
 "cells": [
  {
   "cell_type": "code",
   "execution_count": 1,
   "metadata": {},
   "outputs": [],
   "source": [
    "from datetime import datetime, timedelta\n",
    "from typing import Dict, Optional, Any, Union, Tuple\n",
    "\n",
    "import lxml.etree\n",
    "import pandas as pd\n",
    "import dateutil.parser as dp\n",
    "import numpy as np\n",
    "import imageio\n",
    "import os"
   ]
  },
  {
   "cell_type": "code",
   "execution_count": 2,
   "metadata": {},
   "outputs": [],
   "source": [
    "import parse_tcx\n",
    "import matplotlib.pyplot as plt\n",
    "import matplotlib as mpl"
   ]
  },
  {
   "cell_type": "code",
   "execution_count": 37,
   "metadata": {},
   "outputs": [],
   "source": [
    "run = parse_tcx.get_dataframes('test.tcx')[1]"
   ]
  },
  {
   "cell_type": "code",
   "execution_count": 38,
   "metadata": {},
   "outputs": [],
   "source": [
    "sample_ratio = 10"
   ]
  },
  {
   "cell_type": "code",
   "execution_count": 39,
   "metadata": {},
   "outputs": [],
   "source": [
    "run = run.loc[::sample_ratio,:].reset_index()"
   ]
  },
  {
   "cell_type": "code",
   "execution_count": 117,
   "metadata": {},
   "outputs": [
    {
     "data": {
      "text/plain": [
       "(-13517.253473029403, -13515.067521843168)"
      ]
     },
     "execution_count": 117,
     "metadata": {},
     "output_type": "execute_result"
    }
   ],
   "source": [
    "ax.get_xlim()"
   ]
  },
  {
   "cell_type": "code",
   "execution_count": 118,
   "metadata": {},
   "outputs": [
    {
     "data": {
      "text/plain": [
       "(109.74505434656481, 109.45177131860086)"
      ]
     },
     "execution_count": 118,
     "metadata": {},
     "output_type": "execute_result"
    }
   ],
   "source": [
    "ax.get_ylim()"
   ]
  },
  {
   "cell_type": "code",
   "execution_count": 60,
   "metadata": {},
   "outputs": [],
   "source": [
    "from mpl_toolkits.axes_grid1.anchored_artists import AnchoredSizeBar\n",
    "import matplotlib.font_manager as fm"
   ]
  },
  {
   "cell_type": "code",
   "execution_count": 71,
   "metadata": {
    "scrolled": true
   },
   "outputs": [
    {
     "data": {
      "text/plain": [
       "<mpl_toolkits.axes_grid1.anchored_artists.AnchoredSizeBar at 0x149f0a150>"
      ]
     },
     "execution_count": 71,
     "metadata": {},
     "output_type": "execute_result"
    },
    {
     "data": {
      "image/png": "[encoded data removed]",
      "text/plain": [
       "<Figure size 360x360 with 1 Axes>"
      ]
     },
     "metadata": {
      "needs_background": "light"
     },
     "output_type": "display_data"
    }
   ],
   "source": [
    "fig = plt.figure(figsize=(5,5))\n",
    "ax = fig.add_subplot(111 , facecolor='xkcd:dark purple')\n",
    "ax.invert_yaxis()\n",
    "XLIM = ax.get_xlim()\n",
    "YLIM = ax.get_ylim()\n",
    "float_run = run.time.values.astype(float)\n",
    "plt.scatter(110.574*run.longitude, 111.320*np.cos(run.latitude), c=float_run, cmap='inferno', norm=mpl.colors.LogNorm())\n",
    "\n",
    "fontprops = fm.FontProperties(size=18)\n",
    "scalebar = AnchoredSizeBar(ax.transData,\n",
    "                           0.5, '0.5 km', 'lower right', \n",
    "                           pad=0.1,\n",
    "                           color='white',\n",
    "                           frameon=False,\n",
    "                           size_vertical=0.01,\n",
    "                           fontproperties=fontprops)\n",
    "\n",
    "ax.add_artist(scalebar)"
   ]
  },
  {
   "cell_type": "code",
   "execution_count": 72,
   "metadata": {
    "scrolled": true
   },
   "outputs": [],
   "source": [
    "filenames = []\n",
    "XLIM = (-13517.253473029403, -13515.067521843168)\n",
    "YLIM = (109.74505434656481, 109.45177131860086)\n",
    "for i in run.index:\n",
    "    fig=plt.figure(figsize=(5,5))\n",
    "    ax = fig.add_subplot(111 , facecolor='xkcd:dark purple')\n",
    "    ax.invert_yaxis()\n",
    "    snapshot = run.loc[0:i]\n",
    "    float_run = snapshot.time.values.astype(float)\n",
    "    ax.scatter(110.574*snapshot.longitude, 111.320*np.cos(snapshot.latitude), c=float_run, cmap='inferno', norm=mpl.colors.LogNorm())\n",
    "    ax.set_xlim(XLIM)\n",
    "    ax.set_ylim(YLIM)\n",
    "    ax.set_axis_off()\n",
    "    ax.add_artist(ax.patch)\n",
    "    ax.patch.set_zorder(-1)\n",
    "    \n",
    "    #Add a scalebar\n",
    "    fontprops = fm.FontProperties(size=18)\n",
    "    scalebar = AnchoredSizeBar(ax.transData,\n",
    "                           0.5, '0.5 km', 'lower right', \n",
    "                           pad=0.1,\n",
    "                           color='white',\n",
    "                           frameon=False,\n",
    "                           size_vertical=0.01,\n",
    "                           fontproperties=fontprops)\n",
    "\n",
    "    ax.add_artist(scalebar)\n",
    "    \n",
    "    # create file name and append it to a list\n",
    "    filename = f'{i}.png'\n",
    "    filenames.append(filename)\n",
    "    \n",
    "    # repeat last frame\n",
    "    if (i == len(run.index)-1):\n",
    "        for j in range(15):\n",
    "            filenames.append(filename)\n",
    "    \n",
    "    # save frame\n",
    "    fig.savefig(filename)\n",
    "    plt.close()\n",
    "    \n"
   ]
  },
  {
   "cell_type": "code",
   "execution_count": 73,
   "metadata": {},
   "outputs": [],
   "source": [
    "# build gif    \n",
    "frames = []\n",
    "\n",
    "for filename in filenames:\n",
    "    if filename.endswith(\".png\"):\n",
    "        frames.append(imageio.imread(filename))\n",
    "\n",
    "\n",
    "# Save them as frames into a gif \n",
    "exportname = \"output.gif\"\n",
    "kargs = { 'fps': 100 }\n",
    "imageio.mimsave(exportname, frames, 'GIF', **kargs)\n",
    "\n",
    "\n",
    "    "
   ]
  },
  {
   "cell_type": "code",
   "execution_count": 74,
   "metadata": {},
   "outputs": [],
   "source": [
    "# Remove files\n",
    "for filename in set(filenames):\n",
    "    os.remove(filename)"
   ]
  },
  {
   "cell_type": "code",
   "execution_count": 55,
   "metadata": {},
   "outputs": [],
   "source": [
    "folder_path = '.'\n",
    "#using listdir() method to list the files of the folder\n",
    "test = os.listdir(folder_path)\n",
    "#taking a loop to remove all the images\n",
    "#using \".png\" extension to remove only png images\n",
    "#using os.remove() method to remove the files\n",
    "for images in test:\n",
    "    if images.endswith(\".png\"):\n",
    "        os.remove(os.path.join(folder_path, images))"
   ]
  },
  {
   "cell_type": "code",
   "execution_count": null,
   "metadata": {},
   "outputs": [],
   "source": []
  }
 ],
 "metadata": {
  "kernelspec": {
   "display_name": "Python 3",
   "language": "python",
   "name": "python3"
  },
  "language_info": {
   "codemirror_mode": {
    "name": "ipython",
    "version": 3
   },
   "file_extension": ".py",
   "mimetype": "text/x-python",
   "name": "python",
   "nbconvert_exporter": "python",
   "pygments_lexer": "ipython3",
   "version": "3.7.4"
  }
 },
 "nbformat": 4,
 "nbformat_minor": 1
}
